{
 "cells": [
  {
   "cell_type": "code",
   "execution_count": 1,
   "id": "36af1f76-06e0-41a1-a63d-11ab78b79af3",
   "metadata": {},
   "outputs": [
    {
     "name": "stdout",
     "output_type": "stream",
     "text": [
      "Trước khi hoán đổi: a = 5 , b = 9\n",
      "Sau khi hoán đổi: a = 9 , b = 5\n"
     ]
    }
   ],
   "source": [
    "#W3A2\n",
    "a = 5\n",
    "b = 9\n",
    "\n",
    "print(\"Trước khi hoán đổi: a =\", a, \", b =\", b)\n",
    "\n",
    "a = a ^ b\n",
    "b = a ^ b\n",
    "a = a ^ b\n",
    "\n",
    "print(\"Sau khi hoán đổi: a =\", a, \", b =\", b)\n"
   ]
  },
  {
   "cell_type": "code",
   "execution_count": 6,
   "id": "5e0a1710-1c63-4bd3-b403-cadd2f0e55f2",
   "metadata": {},
   "outputs": [
    {
     "name": "stdin",
     "output_type": "stream",
     "text": [
      "m= -9\n",
      "n= 6\n"
     ]
    },
    {
     "name": "stdout",
     "output_type": "stream",
     "text": [
      "-2.0\n"
     ]
    }
   ],
   "source": [
    "#W3A4\n",
    "m=float(input(\"m=\"))\n",
    "n=float(input(\"n=\"))\n",
    "print(m//n)"
   ]
  },
  {
   "cell_type": "code",
   "execution_count": 8,
   "id": "1168f0d4-1fc0-4f81-b53f-028a9f111b37",
   "metadata": {},
   "outputs": [
    {
     "name": "stdin",
     "output_type": "stream",
     "text": [
      "m= -8\n",
      "n= 99\n"
     ]
    },
    {
     "name": "stdout",
     "output_type": "stream",
     "text": [
      "0.0\n"
     ]
    }
   ],
   "source": [
    "#W3A5\n",
    "m=float(input(\"m=\"))\n",
    "n=float(input(\"n=\"))\n",
    "print((m//n)+1)"
   ]
  },
  {
   "cell_type": "code",
   "execution_count": 11,
   "id": "652bf132-463a-41e1-b9d4-e0f62dbb7245",
   "metadata": {},
   "outputs": [
    {
     "name": "stdin",
     "output_type": "stream",
     "text": [
      "nhập số nguyên bất kỳ 563\n"
     ]
    },
    {
     "name": "stdout",
     "output_type": "stream",
     "text": [
      "old\n"
     ]
    }
   ],
   "source": [
    "#W3A6\n",
    "a=int(input(\"nhập số nguyên bất kỳ\"))\n",
    "if a%2==0:\n",
    "    print (\"even\")\n",
    "else:\n",
    "    print (\"old\")"
   ]
  },
  {
   "cell_type": "code",
   "execution_count": 12,
   "id": "5f337335-e7fa-481e-a7f6-a33ae2ba7f61",
   "metadata": {},
   "outputs": [
    {
     "name": "stdin",
     "output_type": "stream",
     "text": [
      "a= 5\n",
      "b= -9\n"
     ]
    },
    {
     "name": "stdout",
     "output_type": "stream",
     "text": [
      "no\n"
     ]
    }
   ],
   "source": [
    "#W3A7\n",
    "a=float(input(\"a=\"))\n",
    "b=float(input(\"b=\"))\n",
    "if a<0 and b<0:\n",
    "    print (\"yes\")\n",
    "else :\n",
    "    print(\"no\")"
   ]
  }
 ],
 "metadata": {
  "kernelspec": {
   "display_name": "Python 3 (ipykernel)",
   "language": "python",
   "name": "python3"
  },
  "language_info": {
   "codemirror_mode": {
    "name": "ipython",
    "version": 3
   },
   "file_extension": ".py",
   "mimetype": "text/x-python",
   "name": "python",
   "nbconvert_exporter": "python",
   "pygments_lexer": "ipython3",
   "version": "3.13.7"
  }
 },
 "nbformat": 4,
 "nbformat_minor": 5
}
