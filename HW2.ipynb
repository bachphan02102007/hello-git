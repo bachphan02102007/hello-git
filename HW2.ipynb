{
 "cells": [
  {
   "cell_type": "code",
   "execution_count": 1,
   "id": "c8516d20-8609-4aff-af00-7e6213fb4b57",
   "metadata": {},
   "outputs": [
    {
     "name": "stdin",
     "output_type": "stream",
     "text": [
      "chiều dài= 45\n",
      "chiều rộng= 34\n"
     ]
    },
    {
     "name": "stdout",
     "output_type": "stream",
     "text": [
      "diện tích= 1530.0\n",
      "chu vi= 158.0\n"
     ]
    }
   ],
   "source": [
    "#1\n",
    "a=float(input(\"chiều dài=\"))\n",
    "b=float(input(\"chiều rộng=\"))\n",
    "print(\"diện tích=\",a*b)\n",
    "print(\"chu vi=\",(a+b)*2)\n"
   ]
  },
  {
   "cell_type": "code",
   "execution_count": 5,
   "id": "56dac0ab-efef-44a2-80a6-3fad51690597",
   "metadata": {},
   "outputs": [
    {
     "name": "stdin",
     "output_type": "stream",
     "text": [
      "nhập chiều dài và chiều rộng 45 34\n"
     ]
    },
    {
     "name": "stdout",
     "output_type": "stream",
     "text": [
      "diện tích= 1530 , chu vi= 158\n"
     ]
    }
   ],
   "source": [
    "#1\n",
    "a,b =map(int,input(\"nhập chiều dài và chiều rộng:\").split())\n",
    "print(\"diện tích=\",a*b,\", chu vi=\",(a+b)*2)"
   ]
  },
  {
   "cell_type": "code",
   "execution_count": 6,
   "id": "e32d157b-36e2-4db7-a20d-755c76f0f12b",
   "metadata": {},
   "outputs": [
    {
     "name": "stdin",
     "output_type": "stream",
     "text": [
      "bán kính: 5\n"
     ]
    },
    {
     "name": "stdout",
     "output_type": "stream",
     "text": [
      "diện tích hình tròn là: 78.5\n"
     ]
    }
   ],
   "source": [
    "#2\n",
    "a=float(input(\"bán kính:\"))\n",
    "print(\"diện tích hình tròn là:\",3.14*a**2)\n",
    "        "
   ]
  },
  {
   "cell_type": "code",
   "execution_count": 48,
   "id": "e008cce4-88e3-434a-b3cb-534f5baba28c",
   "metadata": {},
   "outputs": [
    {
     "name": "stdin",
     "output_type": "stream",
     "text": [
      "nhập 3 cạnh tam giác:  3 4 5\n"
     ]
    },
    {
     "name": "stdout",
     "output_type": "stream",
     "text": [
      "đây là tam giác vuông diện tích là: 6.0 , chu vi là: 12.0\n"
     ]
    }
   ],
   "source": [
    "#3\n",
    "a,b,c = map(float, input(\"nhập 3 cạnh tam giác: \").split())\n",
    "d = (a + b + c)/2\n",
    "import math\n",
    "if a + b > c and a + c > b and b + c > a and a > 0 and b > 0 and c > 0:\n",
    "    e = math.sqrt(d * (d - a) * (d - b) * (d - c))\n",
    "    f=a+b+c\n",
    "    if a == b == c:\n",
    "        print(\"đây là tam giác đều\", \"diện tích là:\", e,\", chu vi là:\",f)\n",
    "    elif a == b or b == c or c == a:\n",
    "        print(\"đây là tam giác cân\", \"diện tích là:\", e,\", chu vi là:\",f)\n",
    "    elif a**2 + b**2 == c**2 or a**2 + c**2 == b**2 or c**2 + b**2 == a**2:\n",
    "        print(\"đây là tam giác vuông\", \"diện tích là:\", e,\", chu vi là:\",f)\n",
    "    else:\n",
    "        print(\"đây là tam giác thường\", \"diện tích là:\", e,\", chu vi là:\",f)\n",
    "else:\n",
    "    print(\"đây không phải là ba cạnh của tam giác\")\n"
   ]
  },
  {
   "cell_type": "code",
   "execution_count": 39,
   "id": "2d56417f-89ae-4a69-829e-7b21656af45c",
   "metadata": {},
   "outputs": [
    {
     "name": "stdout",
     "output_type": "stream",
     "text": [
      "giải pt ax + b = 0 \n"
     ]
    },
    {
     "name": "stdin",
     "output_type": "stream",
     "text": [
      "nhập hệ số a= 7\n",
      "nhập hệ số b= 0\n"
     ]
    },
    {
     "name": "stdout",
     "output_type": "stream",
     "text": [
      "nghiệm của pt là x= -0.0\n"
     ]
    }
   ],
   "source": [
    "#4\n",
    "print(\"giải pt ax + b = 0 \" )\n",
    "a=float(input(\"nhập hệ số a=\"))\n",
    "b=float(input(\"nhập hệ số b=\"))\n",
    "if a==0:\n",
    "    if b==0:\n",
    "        print (\"vô số nghiệm\")\n",
    "    else:\n",
    "        print(\"vô nghiệm\")\n",
    "else:\n",
    "    x=(-b)/a\n",
    "    print (\"nghiệm của pt là x=\",x)"
   ]
  },
  {
   "cell_type": "code",
   "execution_count": 60,
   "id": "698492df-ccf2-472a-82f7-e92cd5082829",
   "metadata": {},
   "outputs": [
    {
     "name": "stdout",
     "output_type": "stream",
     "text": [
      "giải pt ax**2 + bx + c = 0\n"
     ]
    },
    {
     "name": "stdin",
     "output_type": "stream",
     "text": [
      "nhập hệ số a= 0\n",
      "nhập hệ số b= 0\n",
      "nhập hệ số c= 8\n"
     ]
    },
    {
     "name": "stdout",
     "output_type": "stream",
     "text": [
      "vô nghiệm\n"
     ]
    }
   ],
   "source": [
    "#5\n",
    "print(\"giải pt ax**2 + bx + c = 0\")\n",
    "a=float(input(\"nhập hệ số a=\"))\n",
    "b=float(input(\"nhập hệ số b=\"))\n",
    "c=float(input(\"nhập hệ số c=\"))\n",
    "if a==0:\n",
    "    if b==0:\n",
    "        if c==0:\n",
    "            print (\"vô số nghiệm\")\n",
    "        else:\n",
    "            print(\"vô nghiệm\")\n",
    "    else:\n",
    "        x=(-c)/b\n",
    "        print (\"nghiệm của pt là x=\",x)\n",
    "else :\n",
    "    f=b**2-4*a*c\n",
    "    import math\n",
    "    if f<0:\n",
    "        print (\"vô nghiệm\")\n",
    "    elif f==0:\n",
    "        x=(-b+math.sqrt(f))/(2*a)\n",
    "        y=(-b-math.sqrt(f))/(2*a)\n",
    "        print (\"pt có nghiệm kép x=\",x)\n",
    "    else :\n",
    "        x=(-b+math.sqrt(f))/(2*a)\n",
    "        y=(-b-math.sqrt(f))/(2*a)\n",
    "        print (\"pt có 2 nghiệm phân biệt x1=\",x,\"x2=\",y)\n"
   ]
  },
  {
   "cell_type": "code",
   "execution_count": 66,
   "id": "0d4907a8-5111-406f-af76-87852120bfca",
   "metadata": {},
   "outputs": [
    {
     "name": "stdin",
     "output_type": "stream",
     "text": [
      "a= 4\n",
      "b= 6\n",
      "c= 4\n",
      "d= 9\n"
     ]
    },
    {
     "name": "stdout",
     "output_type": "stream",
     "text": [
      "9.0 là số lớn nhất\n"
     ]
    }
   ],
   "source": [
    "#6\n",
    "a=float(input(\"a=\"))\n",
    "b=float(input(\"b=\"))\n",
    "c=float(input(\"c=\"))\n",
    "d=float(input(\"d=\"))\n",
    "if a>b and a>c and a>d:\n",
    "    print (a,\"là số lớn nhất\")\n",
    "if b>a and b>c and b>d:\n",
    "    print (b,\"là số lớn nhất\")\n",
    "if c>b and c>a and c>d:\n",
    "    print (c,\"là số lớn nhất\")\n",
    "if d>b and d>c and d>a:\n",
    "    print (d,\"là số lớn nhất\")"
   ]
  },
  {
   "cell_type": "code",
   "execution_count": 67,
   "id": "94511e73-f32e-4db2-8650-94ced5d1b27b",
   "metadata": {},
   "outputs": [
    {
     "name": "stdin",
     "output_type": "stream",
     "text": [
      "a= 4\n",
      "b= 6\n",
      "c= 8\n",
      "d= 3\n"
     ]
    },
    {
     "name": "stdout",
     "output_type": "stream",
     "text": [
      "số lớn nhất là: 8.0\n"
     ]
    }
   ],
   "source": [
    "#6\n",
    "a=float(input(\"a=\"))\n",
    "b=float(input(\"b=\"))\n",
    "c=float(input(\"c=\"))\n",
    "d=float(input(\"d=\"))\n",
    "f=max(a,b,c,d)\n",
    "print (\"số lớn nhất là:\",f)"
   ]
  },
  {
   "cell_type": "code",
   "execution_count": 70,
   "id": "9d101b6d-524d-46aa-8d99-2809e439522a",
   "metadata": {},
   "outputs": [
    {
     "name": "stdin",
     "output_type": "stream",
     "text": [
      "a= 5\n",
      "b= 6\n",
      "c= 7\n",
      "d= 4\n"
     ]
    },
    {
     "name": "stdout",
     "output_type": "stream",
     "text": [
      "số nhỏ nhất là: 4.0\n"
     ]
    }
   ],
   "source": [
    "#7\n",
    "a=float(input(\"a=\"))\n",
    "b=float(input(\"b=\"))\n",
    "c=float(input(\"c=\"))\n",
    "d=float(input(\"d=\"))\n",
    "f=min(a,b,c,d)\n",
    "print (\"số nhỏ nhất là:\",f)"
   ]
  },
  {
   "cell_type": "code",
   "execution_count": 46,
   "id": "68aaf3e5-7975-4bf0-8947-9e72633c3446",
   "metadata": {},
   "outputs": [
    {
     "name": "stdout",
     "output_type": "stream",
     "text": [
      "giải hệ phương trình tuyến tính\n",
      "     ax + by = m\n",
      "     cx + dy = n\n"
     ]
    },
    {
     "name": "stdin",
     "output_type": "stream",
     "text": [
      "a= 1\n",
      "b= 1\n",
      "m= 2\n",
      "c= 2\n",
      "d= 2\n",
      "n= 5\n"
     ]
    },
    {
     "name": "stdout",
     "output_type": "stream",
     "text": [
      "vô nghiệm\n"
     ]
    }
   ],
   "source": [
    "#8\n",
    "print (\"giải hệ phương trình tuyến tính\")\n",
    "print (    \"     ax + by = m\")\n",
    "print (  \"     cx + dy = n\")\n",
    "a=float(input(\"a=\"))\n",
    "b=float(input(\"b=\"))\n",
    "m=float(input(\"m=\"))\n",
    "c=float(input(\"c=\"))\n",
    "d=float(input(\"d=\"))\n",
    "n=float(input(\"n=\"))\n",
    "if (a*d-b*c)!=0:\n",
    "    y=(n*a-m*c)/(a*d-b*c)\n",
    "    x=(m-b*y)/a\n",
    "    print(\"-\"*20)\n",
    "    print(\"x=\",x)\n",
    "    print(\"y=\",y)\n",
    "else:\n",
    "    if (n*a-m*c)==0 and (a*d-b*c) ==0:\n",
    "        print (\"vô số nghiệm\")\n",
    "    else :\n",
    "        print (\"vô nghiệm\")\n",
    "\n",
    "\n"
   ]
  },
  {
   "cell_type": "code",
   "execution_count": 2,
   "id": "de286cdf-f469-4e57-b474-fd9e4629b72c",
   "metadata": {},
   "outputs": [
    {
     "name": "stdin",
     "output_type": "stream",
     "text": [
      "nhập số giây: 3661\n"
     ]
    },
    {
     "name": "stdout",
     "output_type": "stream",
     "text": [
      "1 gio 1 phut 1 giay\n"
     ]
    }
   ],
   "source": [
    "#9\n",
    "a=int(input(\"nhập số giây:\"))\n",
    "h=a//3600\n",
    "m=(a-h*3600)//60\n",
    "s=(a-h*3600-m*60)\n",
    "print(h,\"gio\",m,\"phut\",s,\"giay\")\n"
   ]
  },
  {
   "cell_type": "code",
   "execution_count": 21,
   "id": "8892aca1-694a-4efc-a4f1-ec57acc3d98e",
   "metadata": {},
   "outputs": [
    {
     "name": "stdin",
     "output_type": "stream",
     "text": [
      "nhập số giây 873374\n"
     ]
    },
    {
     "name": "stdout",
     "output_type": "stream",
     "text": [
      "873374 giây = 242 giờ, 36 phút, 14 giây\n"
     ]
    }
   ],
   "source": [
    "#9\n",
    "a = int(input(\"nhập số giây\"))\n",
    "h, m, s = seconds_to_hms(a)\n",
    "print(f\"{a} giây = {h} giờ, {m} phút, {s} giây\")\n",
    "\n"
   ]
  },
  {
   "cell_type": "code",
   "execution_count": 23,
   "id": "c1a3e4c9-25a0-4b0d-8483-e29e109da99b",
   "metadata": {},
   "outputs": [
    {
     "name": "stdin",
     "output_type": "stream",
     "text": [
      "nhập số giây 3661\n"
     ]
    },
    {
     "name": "stdout",
     "output_type": "stream",
     "text": [
      "1 gio 1 phut 1 giay\n"
     ]
    }
   ],
   "source": [
    "#9\n",
    "a=int(input(\"nhập số giây\"))\n",
    "h=a//3600\n",
    "m=(a%3600)//60\n",
    "s=a%60\n",
    "print(h,\"gio\",m,\"phut\",s,\"giay\")\n"
   ]
  },
  {
   "cell_type": "code",
   "execution_count": 28,
   "id": "4309a3cb-2cc1-466e-bd94-17adbb7ceb92",
   "metadata": {},
   "outputs": [
    {
     "name": "stdin",
     "output_type": "stream",
     "text": [
      "hoành độ tâm: 0\n",
      "tung độ tâm: 0\n",
      "bán kính: 5\n",
      "hoành độ điểm bất kì: 0\n",
      "tung độ điểm bất kì: 4\n"
     ]
    },
    {
     "name": "stdout",
     "output_type": "stream",
     "text": [
      "nằm trong đường tròn\n"
     ]
    }
   ],
   "source": [
    "# 10\n",
    "a=float(input(\"hoành độ tâm:\"))\n",
    "b=float(input(\"tung độ tâm:\"))\n",
    "c=float(input(\"bán kính:\"))\n",
    "d=float(input(\"hoành độ điểm bất kì:\"))\n",
    "e=float(input(\"tung độ điểm bất kì:\"))\n",
    "import math\n",
    "kc=math.sqrt((d-a)**2+(e-b)**2)\n",
    "if kc>c:\n",
    "    print (\"nằm ngoài đường tròn\")\n",
    "elif kc==c:\n",
    "    print(\"thuộc đường tròn\")\n",
    "else:\n",
    "    print (\"nằm trong đường tròn\")\n"
   ]
  },
  {
   "cell_type": "code",
   "execution_count": 72,
   "id": "9d64e5a1-77c2-46b8-b4d4-813b42e73d4e",
   "metadata": {},
   "outputs": [
    {
     "name": "stdin",
     "output_type": "stream",
     "text": [
      "a= 4\n",
      "b= 8\n"
     ]
    },
    {
     "name": "stdout",
     "output_type": "stream",
     "text": [
      "a mũ b= 65536\n"
     ]
    }
   ],
   "source": [
    "#11\n",
    "a=int(input(\"a=\"))\n",
    "b=int(input(\"b=\"))\n",
    "print (\"a mũ b=\",a**b)"
   ]
  }
 ],
 "metadata": {
  "kernelspec": {
   "display_name": "Python 3 (ipykernel)",
   "language": "python",
   "name": "python3"
  },
  "language_info": {
   "codemirror_mode": {
    "name": "ipython",
    "version": 3
   },
   "file_extension": ".py",
   "mimetype": "text/x-python",
   "name": "python",
   "nbconvert_exporter": "python",
   "pygments_lexer": "ipython3",
   "version": "3.13.7"
  }
 },
 "nbformat": 4,
 "nbformat_minor": 5
}
