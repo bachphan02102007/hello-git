{
 "cells": [
  {
   "cell_type": "code",
   "execution_count": 5,
   "id": "1d884f0a-9103-427c-be03-1e9c212ef3f7",
   "metadata": {},
   "outputs": [
    {
     "name": "stdout",
     "output_type": "stream",
     "text": [
      "hello world\n"
     ]
    }
   ],
   "source": [
    "#w2a1\n",
    "print(\"hello world\")"
   ]
  },
  {
   "cell_type": "code",
   "execution_count": 7,
   "id": "ee709830-3588-46d6-8eec-4215454ea549",
   "metadata": {},
   "outputs": [
    {
     "name": "stdin",
     "output_type": "stream",
     "text": [
      "Name: Phan Trọng Bách\n"
     ]
    },
    {
     "name": "stdout",
     "output_type": "stream",
     "text": [
      "Xin chào Phan Trọng Bách\n"
     ]
    }
   ],
   "source": [
    "#w2a2\n",
    "Tên=input(\"Name:\")\n",
    "print(\"Xin chào\",Tên)"
   ]
  },
  {
   "cell_type": "code",
   "execution_count": 61,
   "id": "db9a8e7c-2ff7-47d8-bfd1-3cb9fffa657a",
   "metadata": {},
   "outputs": [
    {
     "name": "stdin",
     "output_type": "stream",
     "text": [
      "a= 1\n",
      "b= 2\n"
     ]
    },
    {
     "name": "stdout",
     "output_type": "stream",
     "text": [
      "3.0 \n",
      " -1.0 \n",
      " 2.0 \n",
      " 0.50\n"
     ]
    }
   ],
   "source": [
    "#w2a3\n",
    "a=float(input(\"a=\"))\n",
    "b=float(input(\"b=\"))\n",
    "print(a+b,\"\\n\",\n",
    "      a-b,\"\\n\",\n",
    "      a*b,\"\\n\",\n",
    "      \"{:.2f}\".format(a/b))\n"
   ]
  },
  {
   "cell_type": "code",
   "execution_count": 63,
   "id": "3cd9a4fd-8ec3-43c7-8e27-fb17d8c8afd2",
   "metadata": {},
   "outputs": [
    {
     "name": "stdin",
     "output_type": "stream",
     "text": [
      " 1 1 1 1 1 1\n"
     ]
    },
    {
     "name": "stdout",
     "output_type": "stream",
     "text": [
      "điểm TB:1.00\n"
     ]
    }
   ],
   "source": [
    "#w2a4\n",
    "a1,b1,c1,a2,b2,a3=map(int,input().split())\n",
    "TB=((a1+b1+c1)+(a2+b2)*2+a3*3)/10\n",
    "print(\"điểm TB:{:.2f}\".format(TB))"
   ]
  },
  {
   "cell_type": "code",
   "execution_count": 68,
   "id": "63f5211c-3865-46ca-9ca8-340978ada9dc",
   "metadata": {},
   "outputs": [
    {
     "name": "stdin",
     "output_type": "stream",
     "text": [
      " 3 4\n"
     ]
    },
    {
     "name": "stdout",
     "output_type": "stream",
     "text": [
      "81\n"
     ]
    }
   ],
   "source": [
    "#w2a5\n",
    "a,b=map(int,input().split())\n",
    "print(a**b)"
   ]
  },
  {
   "cell_type": "code",
   "execution_count": 85,
   "id": "02b02300-11a1-464e-ba5a-385149ec100d",
   "metadata": {},
   "outputs": [
    {
     "name": "stdin",
     "output_type": "stream",
     "text": [
      "nhập 1 kí tự từ a-z: a\n"
     ]
    },
    {
     "name": "stdout",
     "output_type": "stream",
     "text": [
      "mã unicode của a là: 97\n",
      "viết hoa là A\n"
     ]
    }
   ],
   "source": [
    "#w2a6\n",
    "a=(input(\"nhập 1 kí tự từ a-z:\"))\n",
    "unicode=ord(a)\n",
    "b= a.upper()\n",
    "print(\"mã unicode của\",a,\"là:\",unicode)\n",
    "print(\"viết hoa là\",b)"
   ]
  },
  {
   "cell_type": "code",
   "execution_count": 93,
   "id": "90f7e187-fc46-46fc-9c09-05cbff605dc6",
   "metadata": {},
   "outputs": [
    {
     "name": "stdout",
     "output_type": "stream",
     "text": [
      "512    512\n"
     ]
    }
   ],
   "source": [
    "#w2a7\n",
    "A = ((13 ** 2) * 3) + 5\n",
    "B = 13**2*3 + 5\n",
    "print(A,\"  \",B)\n"
   ]
  },
  {
   "cell_type": "code",
   "execution_count": 97,
   "id": "dd9872eb-6359-486d-9498-9b7bc2eca7a3",
   "metadata": {},
   "outputs": [
    {
     "name": "stdin",
     "output_type": "stream",
     "text": [
      "celsius: 12\n"
     ]
    },
    {
     "name": "stdout",
     "output_type": "stream",
     "text": [
      "Fahrenheit:53.60\n"
     ]
    }
   ],
   "source": [
    "#w2a8\n",
    "C=float(input(\"celsius:\"))\n",
    "F=9/5*C + 32\n",
    "print(\"Fahrenheit:{:.2f}\".format(F))\n",
    "\n",
    "              "
   ]
  },
  {
   "cell_type": "code",
   "execution_count": 110,
   "id": "553b7f6a-cad5-47b5-9a81-3a9a959fd3c8",
   "metadata": {},
   "outputs": [
    {
     "name": "stdin",
     "output_type": "stream",
     "text": [
      "giá chiếc đồng hồ(USD): 12\n"
     ]
    },
    {
     "name": "stdout",
     "output_type": "stream",
     "text": [
      "tổng thanh toán:26.80 USD\n"
     ]
    }
   ],
   "source": [
    "#w2a9\n",
    "a=float(input(\"giá chiếc đồng hồ(USD):\"))\n",
    "b=a*1.4+10\n",
    "print(\"tổng thanh toán:{:.2f} USD\".format(b))"
   ]
  },
  {
   "cell_type": "code",
   "execution_count": 117,
   "id": "862cb4a2-1d25-4bae-a14f-0127316356e3",
   "metadata": {},
   "outputs": [
    {
     "name": "stdin",
     "output_type": "stream",
     "text": [
      " a b c\n"
     ]
    },
    {
     "name": "stdout",
     "output_type": "stream",
     "text": [
      "hi c, b and a.\n"
     ]
    }
   ],
   "source": [
    "#w2a10\n",
    "name1,name2,name3 =input().split()\n",
    "print(\"hi \",name3,\", \",name2,\" and \",name1,\".\",sep=\"\")"
   ]
  },
  {
   "cell_type": "code",
   "execution_count": 137,
   "id": "309398bb-435e-46f2-a4ed-852acf53e669",
   "metadata": {},
   "outputs": [
    {
     "name": "stdin",
     "output_type": "stream",
     "text": [
      "giờ: 12\n",
      "phút: 12\n"
     ]
    },
    {
     "name": "stdout",
     "output_type": "stream",
     "text": [
      "giây: 43920\n"
     ]
    }
   ],
   "source": [
    "#w2a11\n",
    "a=int(input(\"giờ:\"))\n",
    "b=int(input(\"phút:\"))\n",
    "print(\"giây:\",a*3600+b*60)"
   ]
  },
  {
   "cell_type": "code",
   "execution_count": 138,
   "id": "60c18251-905d-4e08-8248-0ed72e343381",
   "metadata": {},
   "outputs": [
    {
     "name": "stdin",
     "output_type": "stream",
     "text": [
      "độ dài: 12\n"
     ]
    },
    {
     "name": "stdout",
     "output_type": "stream",
     "text": [
      "số miếng dán là: 864.0\n"
     ]
    }
   ],
   "source": [
    "#w2a12\n",
    "a=float(input(\"độ dài:\"))\n",
    "b=6*(a**2)\n",
    "print(\"số miếng dán là:\",b)"
   ]
  },
  {
   "cell_type": "code",
   "execution_count": 139,
   "id": "5166c607-31cc-4a1f-b165-904175ede8c6",
   "metadata": {},
   "outputs": [
    {
     "name": "stdin",
     "output_type": "stream",
     "text": [
      " 12\n",
      " 45\n"
     ]
    },
    {
     "name": "stdout",
     "output_type": "stream",
     "text": [
      "540\n"
     ]
    }
   ],
   "source": [
    "#w2a13\n",
    "a=int(input())\n",
    "b=int(input())\n",
    "print(a*b)\n"
   ]
  },
  {
   "cell_type": "code",
   "execution_count": 141,
   "id": "5c48a829-f554-4dcb-9fca-269cd3e50a56",
   "metadata": {},
   "outputs": [
    {
     "name": "stdin",
     "output_type": "stream",
     "text": [
      "a= 14\n",
      "b= 36\n"
     ]
    },
    {
     "name": "stdout",
     "output_type": "stream",
     "text": [
      "a= 36\n",
      "b= 14\n"
     ]
    }
   ],
   "source": [
    "#w2a14\n",
    "a=int(input(\"a=\"))\n",
    "b=int(input(\"b=\"))\n",
    "print(\"a=\",b)\n",
    "print(\"b=\",a)"
   ]
  },
  {
   "cell_type": "code",
   "execution_count": null,
   "id": "5464ed1d-6e5e-4b08-97ef-57604e09158a",
   "metadata": {},
   "outputs": [],
   "source": [
    "#w2a15\n"
   ]
  },
  {
   "cell_type": "code",
   "execution_count": 143,
   "id": "15c46a84-f1ed-4bfc-8378-38ea1b2a290c",
   "metadata": {},
   "outputs": [
    {
     "name": "stdout",
     "output_type": "stream",
     "text": [
      "spring\n",
      "summer\n",
      "autumn\n",
      "winter\n",
      "spring\n",
      "summer\n",
      "autumn\n",
      "winter\n"
     ]
    }
   ],
   "source": [
    "\n",
    "#w2a16\n",
    "print(\"spring\")\n",
    "print(\"summer\")\n",
    "print(\"autumn\")\n",
    "print(\"winter\")\n",
    "print(\"spring\\nsummer\\nautumn\\nwinter\")"
   ]
  },
  {
   "cell_type": "code",
   "execution_count": 150,
   "id": "7dd53db3-8e61-4606-be89-f666e28c67d4",
   "metadata": {},
   "outputs": [
    {
     "name": "stdout",
     "output_type": "stream",
     "text": [
      "*\n",
      "**\n",
      "***\n"
     ]
    }
   ],
   "source": [
    "#w2a17\n",
    "print(\"*\")\n",
    "print(\"**\")\n",
    "print(\"***\")"
   ]
  },
  {
   "cell_type": "code",
   "execution_count": 151,
   "id": "b433f486-2462-471c-9590-044d0dc86d23",
   "metadata": {},
   "outputs": [
    {
     "name": "stdout",
     "output_type": "stream",
     "text": [
      "\n",
      "###  ###   ###  ###\n",
      " #   #  #   #    #\n",
      " #   #  #   #    #\n",
      " #   #  #   #    #\n",
      " #   ###    #    #\n",
      " \n"
     ]
    }
   ],
   "source": [
    "#w2a18 \n",
    "print('''\n",
    "###  ###   ###  ###\n",
    " #   #  #   #    #\n",
    " #   #  #   #    #\n",
    " #   #  #   #    #\n",
    " #   ###    #    #\n",
    " ''')"
   ]
  },
  {
   "cell_type": "code",
   "execution_count": 152,
   "id": "3fc669cf-f142-4467-b81a-1866f583c121",
   "metadata": {},
   "outputs": [
    {
     "name": "stdout",
     "output_type": "stream",
     "text": [
      "Monday\n",
      "Tuesday\n",
      "Wednesday\n",
      "thursday\n",
      "Friday\n",
      "Saturday\n",
      "Sunday\n"
     ]
    }
   ],
   "source": [
    "#w2a19\n",
    "print(\"Monday\"\"\\n\"\n",
    "      \"Tuesday\"\"\\n\"\n",
    "      \"Wednesday\"\"\\n\"\n",
    "      \"thursday\"\"\\n\"\n",
    "      \"Friday\"\"\\n\"\n",
    "      \"Saturday\"\"\\n\"\n",
    "      \"Sunday\")"
   ]
  },
  {
   "cell_type": "code",
   "execution_count": 153,
   "id": "250adf39-794d-47e3-86f0-b4fe04f1adfd",
   "metadata": {},
   "outputs": [
    {
     "name": "stdout",
     "output_type": "stream",
     "text": [
      "January\n",
      "Fepbruary\n",
      "March\n",
      "April\n",
      "May\n",
      "June\n",
      "July\n",
      "August\n",
      "September\n",
      "October\n",
      "November\n",
      "December\n"
     ]
    }
   ],
   "source": [
    "#w2a20\n",
    "print(\"January\"\"\\n\"\n",
    "      \"Fepbruary\"\"\\n\"\n",
    "      \"March\"\"\\n\"\n",
    "      \"April\"\"\\n\"\n",
    "      \"May\"\"\\n\"\n",
    "      \"June\"\"\\n\"\n",
    "      \"July\"\"\\n\"\n",
    "      \"August\"\"\\n\"\n",
    "      \"September\"\"\\n\"\n",
    "      \"October\"\"\\n\"\n",
    "      \"November\"\"\\n\"\n",
    "      \"December\")"
   ]
  },
  {
   "cell_type": "code",
   "execution_count": 157,
   "id": "e7f80404-f5e2-4f41-84d2-ee5acf067906",
   "metadata": {},
   "outputs": [
    {
     "name": "stdout",
     "output_type": "stream",
     "text": [
      "hello world\n",
      "hello world\n",
      "hello world\n",
      "hello world\n",
      "hello world\n",
      "hello world\n",
      "hello world\n",
      "hello world\n",
      "hello world\n",
      "hello world\n"
     ]
    }
   ],
   "source": [
    "#w2a21\n",
    "for i in range(10):\n",
    "    print(\"hello world\")"
   ]
  }
 ],
 "metadata": {
  "kernelspec": {
   "display_name": "Python 3 (ipykernel)",
   "language": "python",
   "name": "python3"
  },
  "language_info": {
   "codemirror_mode": {
    "name": "ipython",
    "version": 3
   },
   "file_extension": ".py",
   "mimetype": "text/x-python",
   "name": "python",
   "nbconvert_exporter": "python",
   "pygments_lexer": "ipython3",
   "version": "3.13.7"
  }
 },
 "nbformat": 4,
 "nbformat_minor": 5
}
