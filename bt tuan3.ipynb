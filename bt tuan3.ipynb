{
 "cells": [
  {
   "cell_type": "code",
   "execution_count": 1,
   "id": "c6b1a21b-917f-4c9e-a0ae-0d75f5242889",
   "metadata": {},
   "outputs": [
    {
     "name": "stdout",
     "output_type": "stream",
     "text": [
      "Trước khi hoán đổi: a = 5 , b = 9\n",
      "Sau khi hoán đổi: a = 9 , b = 5\n"
     ]
    }
   ],
   "source": [
    "#W3A2\n",
    "a = 5\n",
    "b = 9\n",
    "\n",
    "print(\"Trước khi hoán đổi: a =\", a, \", b =\", b)\n",
    "\n",
    "a = a ^ b\n",
    "b = a ^ b\n",
    "a = a ^ b\n",
    "\n",
    "print(\"Sau khi hoán đổi: a =\", a, \", b =\", b)"
   ]
  },
  {
   "cell_type": "code",
   "execution_count": 26,
   "id": "c92ea389-abbb-4b91-9b29-784071fadccd",
   "metadata": {},
   "outputs": [
    {
     "name": "stdin",
     "output_type": "stream",
     "text": [
      "m= 6\n",
      "n= 3\n"
     ]
    },
    {
     "name": "stdout",
     "output_type": "stream",
     "text": [
      "2.0\n"
     ]
    }
   ],
   "source": [
    "#W3A4\n",
    "m=float(input(\"m=\"))\n",
    "n=float(input(\"n=\"))\n",
    "print(m//n)"
   ]
  },
  {
   "cell_type": "code",
   "execution_count": null,
   "id": "6c426678-4731-4557-921d-e95378222fc5",
   "metadata": {},
   "outputs": [],
   "source": [
    "#W3A5\n",
    "m=float(input(\"m=\"))\n",
    "n=float(input(\"n=\"))\n",
    "print((m//n)+1)"
   ]
  },
  {
   "cell_type": "code",
   "execution_count": null,
   "id": "d336505b-71b9-43f5-a6b7-be21c52bd813",
   "metadata": {},
   "outputs": [],
   "source": [
    "#W3A6\n",
    "a=int(input(\"nhập số nguyên bất kỳ\"))\n",
    "if a%2==0:\n",
    "    print (\"even\")\n",
    "else:\n",
    "    print (\"old\")"
   ]
  },
  {
   "cell_type": "code",
   "execution_count": null,
   "id": "ca1ca2d4-9c23-449e-9811-d5b31f93f17f",
   "metadata": {},
   "outputs": [],
   "source": [
    "#W3A7\n",
    "a=float(input(\"a=\"))\n",
    "b=float(input(\"b=\"))\n",
    "if a<0 and b<0:\n",
    "    print (\"yes\")\n",
    "else :\n",
    "    print(\"no\")"
   ]
  },
  {
   "cell_type": "code",
   "execution_count": 5,
   "id": "4839d5a0-5680-411c-8683-031523ea85a7",
   "metadata": {},
   "outputs": [
    {
     "name": "stdin",
     "output_type": "stream",
     "text": [
      " 3 4 9\n"
     ]
    },
    {
     "name": "stdout",
     "output_type": "stream",
     "text": [
      "no\n"
     ]
    }
   ],
   "source": [
    "#W3A9\n",
    "a,b,c=map(float,input().split())\n",
    "\n",
    "\n",
    "if a+b>c and b+c>a and a+c>b and a>0 and b>0 and c>0:\n",
    "   \n",
    "    print(\"yes\")\n",
    "else:\n",
    "    print(\"no\")"
   ]
  },
  {
   "cell_type": "code",
   "execution_count": 10,
   "id": "fc26d407-c381-4bfb-b272-4fdcfd766f68",
   "metadata": {},
   "outputs": [
    {
     "name": "stdin",
     "output_type": "stream",
     "text": [
      " 4 6 8 5\n"
     ]
    },
    {
     "ename": "TypeError",
     "evalue": "'tuple' object is not callable",
     "output_type": "error",
     "traceback": [
      "\u001b[31m---------------------------------------------------------------------------\u001b[39m",
      "\u001b[31mTypeError\u001b[39m                                 Traceback (most recent call last)",
      "\u001b[36mCell\u001b[39m\u001b[36m \u001b[39m\u001b[32mIn[10]\u001b[39m\u001b[32m, line 3\u001b[39m\n\u001b[32m      1\u001b[39m \u001b[38;5;66;03m#W3A10\u001b[39;00m\n\u001b[32m      2\u001b[39m a,b,c,d=\u001b[38;5;28mmap\u001b[39m(\u001b[38;5;28mint\u001b[39m,\u001b[38;5;28minput\u001b[39m().split())\n\u001b[32m----> \u001b[39m\u001b[32m3\u001b[39m x=\u001b[38;5;28;43mmax\u001b[39;49m\u001b[43m(\u001b[49m\u001b[43ma\u001b[49m\u001b[43m,\u001b[49m\u001b[43mb\u001b[49m\u001b[43m,\u001b[49m\u001b[43mc\u001b[49m\u001b[43m,\u001b[49m\u001b[43md\u001b[49m\u001b[43m)\u001b[49m\n\u001b[32m      4\u001b[39m \u001b[38;5;28mprint\u001b[39m(x)\n",
      "\u001b[31mTypeError\u001b[39m: 'tuple' object is not callable"
     ]
    }
   ],
   "source": [
    "#W3A10\n",
    "a,b,c,d=map(int,input().split())\n",
    "x=max(a,b,c,d)\n",
    "print(x)"
   ]
  },
  {
   "cell_type": "code",
   "execution_count": 11,
   "id": "79ed3b6a-7d0b-484c-8466-45c7559d4b0c",
   "metadata": {},
   "outputs": [
    {
     "name": "stdin",
     "output_type": "stream",
     "text": [
      "nhập độ dài 3 cạnh tam giác 3 4 5\n"
     ]
    },
    {
     "name": "stdout",
     "output_type": "stream",
     "text": [
      "tam giác thường\n"
     ]
    }
   ],
   "source": [
    "#W3A11\n",
    "a,b,c=map(int,input(\"nhập độ dài 3 cạnh tam giác\").split())\n",
    "if a+b>c and b+c>a and a+c>b and a>0 and b>0 and c>0:\n",
    "    if a**2+b**2==c**2 or c**2+b**2==a**2 or a**2+c**2==b**2:\n",
    "        print (\"tam giac vuông\")\n",
    "    elif a==b==c:\n",
    "        print(\"tam giác đều\")\n",
    "    elif a==b or b==c or c==a:\n",
    "        print(\"tam giác cân\")\n",
    "    else:\n",
    "        print (\"tam giác thường\")\n",
    "else:\n",
    "    print(\"kp 3 canh tam giác3\")"
   ]
  },
  {
   "cell_type": "code",
   "execution_count": 14,
   "id": "25ae7b6e-3d21-4088-badf-35e4063427c9",
   "metadata": {},
   "outputs": [
    {
     "name": "stdin",
     "output_type": "stream",
     "text": [
      "nhập năm bất kì: 1900\n"
     ]
    },
    {
     "name": "stdout",
     "output_type": "stream",
     "text": [
      "no\n"
     ]
    }
   ],
   "source": [
    "#W3A12\n",
    "a=int(input(\"nhập năm bất kì:\"))\n",
    "if a%4==0 and a%100!=0:\n",
    "    print(\"yes\")\n",
    "elif a%400==0:\n",
    "    print(\"yes\")\n",
    "else:\n",
    "    print (\"no\")"
   ]
  },
  {
   "cell_type": "code",
   "execution_count": 21,
   "id": "8cd406d3-0dac-4ed8-858c-412290b21b5c",
   "metadata": {},
   "outputs": [
    {
     "name": "stdout",
     "output_type": "stream",
     "text": [
      "giải pt bậc 1\n",
      "ax + b = 0\n"
     ]
    },
    {
     "name": "stdin",
     "output_type": "stream",
     "text": [
      "a= 5\n",
      "b= 0\n"
     ]
    },
    {
     "name": "stdout",
     "output_type": "stream",
     "text": [
      "x= -0.0\n"
     ]
    }
   ],
   "source": [
    "#W3A14\n",
    "print(\"giải pt bậc 1\")\n",
    "print(\"ax + b = 0\")\n",
    "a=float(input(\"a=\"))\n",
    "b=float(input(\"b=\"))\n",
    "if a!=0:\n",
    "    print(\"x=\",(-b)/a)\n",
    "else:\n",
    "    if b==0:\n",
    "        print(\"vô số nghiệm\")\n",
    "    else:\n",
    "        print(\"vô nghiệm\")\n",
    "        \n",
    "    \n"
   ]
  },
  {
   "cell_type": "code",
   "execution_count": 23,
   "id": "c330d8c4-4b72-4e69-afca-610ac8aea410",
   "metadata": {},
   "outputs": [
    {
     "name": "stdin",
     "output_type": "stream",
     "text": [
      "nhập điểm 0\n"
     ]
    },
    {
     "name": "stdout",
     "output_type": "stream",
     "text": [
      "kém\n"
     ]
    }
   ],
   "source": [
    "#W3A15\n",
    "a=float(input(\"nhập điểm\"))\n",
    "if a>=8:\n",
    "    print(\"giỏi\")\n",
    "elif a>= 6.5:\n",
    "    print(\"khá\")\n",
    "elif a>= 5.0:\n",
    "    print(\"trung bình\")\n",
    "else:\n",
    "    print(\"kém\")\n",
    "    "
   ]
  },
  {
   "cell_type": "code",
   "execution_count": 29,
   "id": "411a0318-057e-459b-96bb-4559637f7156",
   "metadata": {},
   "outputs": [
    {
     "name": "stdin",
     "output_type": "stream",
     "text": [
      "nhập số bất kì 6.5000000000001\n"
     ]
    },
    {
     "name": "stdout",
     "output_type": "stream",
     "text": [
      "7.0\n"
     ]
    }
   ],
   "source": [
    "#W3A16\n",
    "a=float(input(\"nhập số bất kì\"))\n",
    "if (a%1)>=0.5:\n",
    "    print(a//1+1)\n",
    "else :\n",
    "    print(a//1)\n"
   ]
  },
  {
   "cell_type": "code",
   "execution_count": 33,
   "id": "5b06a620-c2c6-4845-9dff-08774dc6fee6",
   "metadata": {},
   "outputs": [
    {
     "name": "stdin",
     "output_type": "stream",
     "text": [
      " 1 2 34 5\n"
     ]
    },
    {
     "name": "stdout",
     "output_type": "stream",
     "text": [
      "kp dãy csn\n"
     ]
    }
   ],
   "source": [
    "a,b,c,d=map(float,input().split())\n",
    "if b/a*b==c and b/a*c==d:\n",
    "    print(\"là dãy csn\")\n",
    "else:\n",
    "    print(\"kp dãy csn\")\n",
    "    "
   ]
  }
 ],
 "metadata": {
  "kernelspec": {
   "display_name": "Python 3 (ipykernel)",
   "language": "python",
   "name": "python3"
  },
  "language_info": {
   "codemirror_mode": {
    "name": "ipython",
    "version": 3
   },
   "file_extension": ".py",
   "mimetype": "text/x-python",
   "name": "python",
   "nbconvert_exporter": "python",
   "pygments_lexer": "ipython3",
   "version": "3.13.7"
  }
 },
 "nbformat": 4,
 "nbformat_minor": 5
}
