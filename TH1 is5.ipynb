{
 "cells": [
  {
   "cell_type": "code",
   "execution_count": 24,
   "id": "2bac64a6-e766-450e-a08f-2edbfee91970",
   "metadata": {},
   "outputs": [
    {
     "name": "stdout",
     "output_type": "stream",
     "text": [
      "hello-IS5-chuc cac ban hoc tot.mon nay hoc rat de!\n"
     ]
    }
   ],
   "source": [
    "#W2A1 - comment line\n",
    "print(\"hello\" , \"IS5\", \"chuc cac ban hoc tot\", sep=\"-\",end=\".\")\n",
    "print (\"mon nay hoc rat de!\")"
   ]
  },
  {
   "cell_type": "code",
   "execution_count": 46,
   "id": "1c5e7ea8-ec14-42cc-be87-1b7300b70ff6",
   "metadata": {},
   "outputs": [
    {
     "name": "stdout",
     "output_type": "stream",
     "text": [
      "\n",
      "Spring \n",
      "Summer\n",
      "Autumn\n",
      "Winter\n",
      "Spring\n",
      "Summer\n",
      "Autumn\n",
      "Winter\n",
      "spring,Summer,Autumn,Winter\n"
     ]
    }
   ],
   "source": [
    "#W2A2 - comment line\n",
    "print('''\n",
    "Spring \n",
    "Summer\n",
    "Autumn\n",
    "Winter''')\n",
    "print(\"Spring\\nSummer\\nAutumn\\nWinter\")\n",
    "print(\"spring,Summer,Autumn,Winter\" , sep=\"\\n\" )"
   ]
  },
  {
   "cell_type": "code",
   "execution_count": 47,
   "id": "1194a16c-33ff-4744-919c-90f9e2953c5e",
   "metadata": {},
   "outputs": [
    {
     "name": "stdout",
     "output_type": "stream",
     "text": [
      "\n",
      "###  ###   ###  ###\n",
      " #   #  #   #    #\n",
      " #   #  #   #    #\n",
      " #   #  #   #    #\n",
      " #   ###    #    #\n",
      " \n"
     ]
    }
   ],
   "source": [
    "#W2A2 - comment line\n",
    "print('''\n",
    "###  ###   ###  ###\n",
    " #   #  #   #    #\n",
    " #   #  #   #    #\n",
    " #   #  #   #    #\n",
    " #   ###    #    #\n",
    " ''')\n",
    " "
   ]
  },
  {
   "cell_type": "code",
   "execution_count": 47,
   "id": "c99399dd-4c04-4d2f-adfa-8194c79545f2",
   "metadata": {},
   "outputs": [
    {
     "name": "stdout",
     "output_type": "stream",
     "text": [
      "\n",
      "###  ###   ###  ###\n",
      " #   #  #   #    #\n",
      " #   #  #   #    #\n",
      " #   #  #   #    #\n",
      " #   ###    #    #\n",
      " \n"
     ]
    }
   ],
   "source": [
    "#W2A2 - comment line\n",
    "name= input()#lay het ca line nguoi dung \n",
    " \n",
    " "
   ]
  },
  {
   "cell_type": "code",
   "execution_count": 49,
   "id": "a660d8c1-94a2-424f-9d5d-5fff2e2aa718",
   "metadata": {},
   "outputs": [
    {
     "name": "stdin",
     "output_type": "stream",
     "text": [
      " 30\n",
      " 21\n"
     ]
    },
    {
     "name": "stdout",
     "output_type": "stream",
     "text": [
      "51\n"
     ]
    }
   ],
   "source": [
    "#W2A3\n",
    "a= int(input())\n",
    "b= int(input())\n",
    "print(a+b)\n",
    "\n",
    " \n",
    " "
   ]
  },
  {
   "cell_type": "code",
   "execution_count": 203,
   "id": "8ad80729-0dfd-4685-94cc-4800a30cd1ef",
   "metadata": {},
   "outputs": [
    {
     "name": "stdin",
     "output_type": "stream",
     "text": [
      " a d f\n"
     ]
    },
    {
     "name": "stdout",
     "output_type": "stream",
     "text": [
      "hi f, d and a.\n"
     ]
    }
   ],
   "source": [
    "name1, name2, name3 =input().split()\n",
    "print(\"hi \",name3,\", \",name2,\" and \",name1,\".\", sep=\"\")"
   ]
  },
  {
   "cell_type": "code",
   "execution_count": 205,
   "id": "5b1816c2-0438-4a59-94e2-afcffa6e76fa",
   "metadata": {},
   "outputs": [
    {
     "name": "stdin",
     "output_type": "stream",
     "text": [
      "h: 1\n",
      "m: 1\n"
     ]
    },
    {
     "name": "stdout",
     "output_type": "stream",
     "text": [
      "s= 3660\n"
     ]
    }
   ],
   "source": [
    "a=int(input(\"h:\"))\n",
    "b=int(input(\"m:\"))\n",
    "x=a*3600+b*60\n",
    "print(\"s=\",x)\n",
    "\n"
   ]
  },
  {
   "cell_type": "code",
   "execution_count": 2,
   "id": "f99e5642-e98d-4f86-8d3f-5a556774713c",
   "metadata": {},
   "outputs": [
    {
     "name": "stdin",
     "output_type": "stream",
     "text": [
      " 12\n",
      " 3\n"
     ]
    },
    {
     "name": "stdout",
     "output_type": "stream",
     "text": [
      "36\n"
     ]
    }
   ],
   "source": [
    "a=int(input())\n",
    "b=int(input())\n",
    "print(a*b)"
   ]
  },
  {
   "cell_type": "code",
   "execution_count": 248,
   "id": "93c22ea1-3ccd-4b0b-9cbe-75680538c721",
   "metadata": {},
   "outputs": [
    {
     "name": "stdin",
     "output_type": "stream",
     "text": [
      " 1!3\n"
     ]
    },
    {
     "data": {
      "text/plain": [
       "30"
      ]
     },
     "execution_count": 248,
     "metadata": {},
     "output_type": "execute_result"
    }
   ],
   "source": [
    "line=input()\n",
    "a,b=map(int,line.split(\"!\"))\n",
    "a*b*10"
   ]
  },
  {
   "cell_type": "code",
   "execution_count": 7,
   "id": "4f131177-ae08-48fc-ba78-6545f6d39d98",
   "metadata": {},
   "outputs": [
    {
     "name": "stdout",
     "output_type": "stream",
     "text": [
      "123\n"
     ]
    }
   ],
   "source": [
    "print(123)"
   ]
  },
  {
   "cell_type": "code",
   "execution_count": 8,
   "id": "41f29b04-b86a-4f91-b336-97fe9bd9f4f2",
   "metadata": {},
   "outputs": [
    {
     "name": "stdout",
     "output_type": "stream",
     "text": [
      "123\n"
     ]
    }
   ],
   "source": [
    "print(\"123\")"
   ]
  },
  {
   "cell_type": "code",
   "execution_count": 9,
   "id": "f092ce35-89e9-4958-9dc5-a4bfd6808cd4",
   "metadata": {},
   "outputs": [
    {
     "name": "stdout",
     "output_type": "stream",
     "text": [
      "123\n"
     ]
    }
   ],
   "source": [
    "print('123')"
   ]
  },
  {
   "cell_type": "code",
   "execution_count": 11,
   "id": "a3eb1e84-ccbc-48b3-a268-95d3d16e3126",
   "metadata": {},
   "outputs": [
    {
     "name": "stdout",
     "output_type": "stream",
     "text": [
      "KO\n"
     ]
    }
   ],
   "source": [
    "print(\"KO\")"
   ]
  },
  {
   "cell_type": "code",
   "execution_count": 106,
   "id": "49f895a7-3d28-488c-a729-44fa364502b7",
   "metadata": {},
   "outputs": [
    {
     "name": "stdin",
     "output_type": "stream",
     "text": [
      "USD:78 1\n"
     ]
    },
    {
     "name": "stdout",
     "output_type": "stream",
     "text": [
      "26374VND\n"
     ]
    }
   ],
   "source": [
    "a=int(input(\"USD:\"+str(a)))\n",
    "print(a*26374,(\"VND\"),sep=\"\")"
   ]
  },
  {
   "cell_type": "code",
   "execution_count": 111,
   "id": "bd1f5ede-29cd-451d-b3a7-693173b4cab9",
   "metadata": {},
   "outputs": [
    {
     "name": "stdin",
     "output_type": "stream",
     "text": [
      "USD: 12\n"
     ]
    },
    {
     "name": "stdout",
     "output_type": "stream",
     "text": [
      "316488VND\n"
     ]
    }
   ],
   "source": [
    "a=int(input(\"USD:\"+str()))\n",
    "print(a*26374,(\"VND\"),sep=\"\")"
   ]
  },
  {
   "cell_type": "code",
   "execution_count": 112,
   "id": "87af1f3b-25a3-4545-a498-d1b7c733533d",
   "metadata": {},
   "outputs": [
    {
     "name": "stdin",
     "output_type": "stream",
     "text": [
      "USD: 12\n"
     ]
    },
    {
     "name": "stdout",
     "output_type": "stream",
     "text": [
      "316488VND\n"
     ]
    }
   ],
   "source": [
    "a=int(input(\"USD:\"))\n",
    "print(a*26374,(\"VND\"),sep=\"\")"
   ]
  },
  {
   "cell_type": "code",
   "execution_count": 190,
   "id": "5cde0f28-22fd-4cdd-a4a5-b16d39fa3495",
   "metadata": {},
   "outputs": [
    {
     "name": "stdin",
     "output_type": "stream",
     "text": [
      "Celcius (°C) 12\n"
     ]
    },
    {
     "name": "stdout",
     "output_type": "stream",
     "text": [
      "Fahrenheit 53.60°F\n"
     ]
    }
   ],
   "source": [
    "a=float(input(\"Celcius (°C)\"))\n",
    "b=9/5*a + 32 \n",
    "print(\"Fahrenheit {:.2f}°F\".format(b))\n"
   ]
  },
  {
   "cell_type": "code",
   "execution_count": 192,
   "id": "5fe02cda-d157-449a-8d2b-0923596715b9",
   "metadata": {},
   "outputs": [
    {
     "name": "stdin",
     "output_type": "stream",
     "text": [
      "Giá chiếc đồng hồ Sơn tùng mua:USD 12\n"
     ]
    },
    {
     "name": "stdout",
     "output_type": "stream",
     "text": [
      "Tổng thanh toán:26.80USD\n"
     ]
    }
   ],
   "source": [
    "a=float(input(\"Giá chiếc đồng hồ Sơn tùng mua:\"+\"USD\"))\n",
    "b=a*1.4+10\n",
    "print(\"Tổng thanh toán:{:.2f}USD\".format(b))"
   ]
  },
  {
   "cell_type": "code",
   "execution_count": 232,
   "id": "5b136989-c9c8-40a1-b28b-141c9882b421",
   "metadata": {},
   "outputs": [
    {
     "name": "stdout",
     "output_type": "stream",
     "text": [
      "hello world\n",
      "hello world\n",
      "hello world\n",
      "hello world\n",
      "hello world\n",
      "hello world\n",
      "hello world\n",
      "hello world\n",
      "hello world\n",
      "hello world\n"
     ]
    }
   ],
   "source": [
    "for i in range(10):\n",
    "    print(\"hello world\")"
   ]
  },
  {
   "cell_type": "code",
   "execution_count": 231,
   "id": "578597a9-ca00-4ae8-817f-5dee62071fdf",
   "metadata": {},
   "outputs": [
    {
     "name": "stdout",
     "output_type": "stream",
     "text": [
      "hello world hello world hello world hello world hello world \n"
     ]
    }
   ],
   "source": [
    "print(\"hello world \"*5)\n"
   ]
  },
  {
   "cell_type": "code",
   "execution_count": 233,
   "id": "dc16c627-ca47-4662-8b3e-582f9a715b1b",
   "metadata": {},
   "outputs": [
    {
     "name": "stdout",
     "output_type": "stream",
     "text": [
      "bachphan\n",
      "bachphan\n",
      "bachphan\n",
      "bachphan\n",
      "bachphan\n",
      "bachphan\n",
      "bachphan\n",
      "bachphan\n",
      "bachphan\n",
      "bachphan\n"
     ]
    }
   ],
   "source": [
    "for i in range(10):\n",
    "    print(\"bachphan\")"
   ]
  },
  {
   "cell_type": "code",
   "execution_count": 243,
   "id": "1e7523bb-029e-4be1-b99e-32930193f06d",
   "metadata": {},
   "outputs": [
    {
     "name": "stdout",
     "output_type": "stream",
     "text": [
      "January\n",
      "Fepbruary\n",
      "March\n",
      "April\n",
      "May\n",
      "June\n",
      "July\n",
      "August\n",
      "September\n",
      "October\n",
      "November\n",
      "December\n"
     ]
    }
   ],
   "source": [
    "print(\"January\"\"\\n\"\n",
    "      \"Fepbruary\"\"\\n\"\n",
    "      \"March\"\"\\n\"\n",
    "      \"April\"\"\\n\"\n",
    "      \"May\"\"\\n\"\n",
    "      \"June\"\"\\n\"\n",
    "      \"July\"\"\\n\"\n",
    "      \"August\"\"\\n\"\n",
    "      \"September\"\"\\n\"\n",
    "      \"October\"\"\\n\"\n",
    "      \"November\"\"\\n\"\n",
    "      \"December\")\n",
    "      "
   ]
  },
  {
   "cell_type": "code",
   "execution_count": 244,
   "id": "00382725-ffc2-4e83-ac27-cc0a471362ab",
   "metadata": {},
   "outputs": [
    {
     "name": "stdout",
     "output_type": "stream",
     "text": [
      "Monday\n",
      "Tuesday\n",
      "Wednesday\n",
      "thursday\n",
      "Friday\n",
      "Saturday\n",
      "Sunday\n"
     ]
    }
   ],
   "source": [
    "print(\"Monday\"\"\\n\"\n",
    "      \"Tuesday\"\"\\n\"\n",
    "      \"Wednesday\"\"\\n\"\n",
    "      \"thursday\"\"\\n\"\n",
    "      \"Friday\"\"\\n\"\n",
    "      \"Saturday\"\"\\n\"\n",
    "      \"Sunday\")"
   ]
  },
  {
   "cell_type": "code",
   "execution_count": 245,
   "id": "6cb583b4-8c24-4c4d-9f4c-9db04bda9008",
   "metadata": {},
   "outputs": [
    {
     "name": "stdin",
     "output_type": "stream",
     "text": [
      "name Phan Trọng Bách\n"
     ]
    },
    {
     "name": "stdout",
     "output_type": "stream",
     "text": [
      "Xin chao Phan Trọng Bách\n"
     ]
    }
   ],
   "source": [
    "Tên=input(\"name\")\n",
    "print(\"Xin chao\",Tên)"
   ]
  }
 ],
 "metadata": {
  "kernelspec": {
   "display_name": "Python 3 (ipykernel)",
   "language": "python",
   "name": "python3"
  },
  "language_info": {
   "codemirror_mode": {
    "name": "ipython",
    "version": 3
   },
   "file_extension": ".py",
   "mimetype": "text/x-python",
   "name": "python",
   "nbconvert_exporter": "python",
   "pygments_lexer": "ipython3",
   "version": "3.13.7"
  }
 },
 "nbformat": 4,
 "nbformat_minor": 5
}
