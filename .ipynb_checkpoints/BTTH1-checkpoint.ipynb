{
 "cells": [
  {
   "cell_type": "code",
   "execution_count": 4,
   "id": "3717ff5d-a289-4245-9de8-90759bad2294",
   "metadata": {},
   "outputs": [
    {
     "name": "stdin",
     "output_type": "stream",
     "text": [
      "nhập một số nguyên: 23\n"
     ]
    },
    {
     "name": "stdout",
     "output_type": "stream",
     "text": [
      "46\n"
     ]
    }
   ],
   "source": [
    "#Bài1\n",
    "n=int(input(\"nhập một số nguyên:\"))\n",
    "print(n*2)\n",
    "\n"
   ]
  },
  {
   "cell_type": "code",
   "execution_count": 8,
   "id": "d1f8e58c-408b-4001-944c-140bbd14ef1d",
   "metadata": {},
   "outputs": [
    {
     "name": "stdin",
     "output_type": "stream",
     "text": [
      "chiều rộng: 23\n",
      "chiều dài: 54\n"
     ]
    },
    {
     "name": "stdout",
     "output_type": "stream",
     "text": [
      "diện tích trồng cây là: 826.73\n"
     ]
    }
   ],
   "source": [
    "#Bài2\n",
    "a=float(input(\"chiều rộng:\"))\n",
    "b=float(input(\"chiều dài:\"))\n",
    "c=a*b-((a/2)**2)*3.14\n",
    "print(\"diện tích trồng cây là: {:.2f}\".format(c))"
   ]
  },
  {
   "cell_type": "code",
   "execution_count": 42,
   "id": "ccf6f548-87c1-4c29-81b5-18c26d51364e",
   "metadata": {},
   "outputs": [
    {
     "name": "stdin",
     "output_type": "stream",
     "text": [
      "nhập kí tự: D\n"
     ]
    },
    {
     "name": "stdout",
     "output_type": "stream",
     "text": [
      "d\n"
     ]
    }
   ],
   "source": [
    "#Bài3\n",
    "x=input(\"nhập kí tự:\")\n",
    "if x.islower():\n",
    "    print(x.upper())\n",
    "else:\n",
    "    print(x.lower())\n",
    "     \n",
    "\n",
    "\n",
    "    \n"
   ]
  },
  {
   "cell_type": "code",
   "execution_count": 67,
   "id": "98836155-f9b5-462b-8594-60598809752c",
   "metadata": {},
   "outputs": [
    {
     "name": "stdin",
     "output_type": "stream",
     "text": [
      "nhập kí tự bất kỳ: 5\n"
     ]
    },
    {
     "name": "stdout",
     "output_type": "stream",
     "text": [
      "5 ko phải kí tự alphabet\n"
     ]
    }
   ],
   "source": [
    "#Bài4\n",
    "x=input(\"nhập kí tự bất kỳ:\")\n",
    "if x.isalpha():\n",
    "    print(x,\"là ký tự alphabet\")\n",
    "else:\n",
    "    print(x,\"ko phải kí tự alphabet\")"
   ]
  },
  {
   "cell_type": "code",
   "execution_count": null,
   "id": "5b890223-d8ed-4884-9b98-9ec7472557a5",
   "metadata": {},
   "outputs": [],
   "source": [
    "#Bài5\n"
   ]
  },
  {
   "cell_type": "code",
   "execution_count": 16,
   "id": "e938ea09-0be4-40e0-82c6-02f87415d715",
   "metadata": {},
   "outputs": [
    {
     "name": "stdin",
     "output_type": "stream",
     "text": [
      " 3 4 5\n"
     ]
    },
    {
     "name": "stdout",
     "output_type": "stream",
     "text": [
      "6.00\n"
     ]
    }
   ],
   "source": [
    "#Bài6\n",
    "a,b,c=map(float,input().split())\n",
    "d=(a+b+c)/2\n",
    "import math\n",
    "e=math.sqrt(d*(d-a)*(d-b)*(d-c))\n",
    "if a+b>c and b+c>a and a+c>b and a>0 and b>0 and c>0:\n",
    "    print(\"{:.2f}\".format(e))\n",
    "else:\n",
    "    print(\"không phải là ba cạnh của tam giác\")\n",
    "\n",
    "\n"
   ]
  },
  {
   "cell_type": "code",
   "execution_count": 87,
   "id": "a23ac914-f626-4ed1-9fdd-2f40771352a7",
   "metadata": {},
   "outputs": [
    {
     "name": "stdin",
     "output_type": "stream",
     "text": [
      " nguyen xuan hai\n",
      " 2000\n",
      " 2586\n"
     ]
    },
    {
     "name": "stdout",
     "output_type": "stream",
     "text": [
      "Họ và Tên: nguyen xuan hai\n",
      "Tiền phải trả là: 1855504.8\n"
     ]
    }
   ],
   "source": [
    "#Bài8\n",
    "a=input()\n",
    "b=int(input())\n",
    "c=int(input())\n",
    "print(\"Họ và Tên:\",a)\n",
    "if c-b<=50:\n",
    "    print(\"Tiền phải trả là:\",((c-b)*1984)*1.08)\n",
    "if 50<c-b<=100:\n",
    "    print(\"Tiền phải trả là:\",((c-b-50)*2050+50*1984)*1.08)\n",
    "if 100<c-b<=200:\n",
    "    print(\"Tiền phải trả là:\",((c-b-100)*2380+50*2050+1984*50)*1.08)\n",
    "if 200<c-b<=300:\n",
    "    print(\"Tiền phải trả là:\",((c-b-200)*2998+100*2380+50*2050+1984*50)*1.08)\n",
    "if 300<c-b<=400:\n",
    "    print(\"Tiền phải trả là:\",((c-b-300)*3350+100*2998+100*2380+50*2050+1984*50)*1.08)\n",
    "if 400<c-b:\n",
    "    print(\"Tiền phải trả là:\",((c-b-400)*3460+100*3350+100*2998+100*2380+50*2050+1984*50)*1.08)\n",
    "\n",
    "\n"
   ]
  },
  {
   "cell_type": "code",
   "execution_count": 1,
   "id": "1eb9429a-daae-4494-aef8-9b14c71d2213",
   "metadata": {},
   "outputs": [
    {
     "name": "stdin",
     "output_type": "stream",
     "text": [
      " 7\n"
     ]
    },
    {
     "name": "stdout",
     "output_type": "stream",
     "text": [
      "Số lẻ\n"
     ]
    }
   ],
   "source": [
    "#1\n",
    "a=int(input())\n",
    "if a % 2 == 0:\n",
    "    print(\"Số chẵn\")\n",
    "else:\n",
    "    print(\"Số lẻ\")\n"
   ]
  },
  {
   "cell_type": "code",
   "execution_count": 13,
   "id": "53085c6e-5c57-42b7-a932-79ae9ff1ffc8",
   "metadata": {},
   "outputs": [
    {
     "name": "stdin",
     "output_type": "stream",
     "text": [
      "nhập 1 số nguyên: 70\n"
     ]
    },
    {
     "name": "stdout",
     "output_type": "stream",
     "text": [
      "false\n"
     ]
    }
   ],
   "source": [
    "#2 \n",
    "a=int(input(\"nhập 1 số nguyên:\"))\n",
    "if a % 5 == 0 and a % 2==1:\n",
    "    print(\"True\")\n",
    "else :\n",
    "    print(\"false\")"
   ]
  },
  {
   "cell_type": "code",
   "execution_count": 18,
   "id": "9470c060-67bf-44a3-b4e2-88671b128d31",
   "metadata": {},
   "outputs": [
    {
     "name": "stdin",
     "output_type": "stream",
     "text": [
      "nhập 1 số tự nhiên 46\n"
     ]
    },
    {
     "name": "stdout",
     "output_type": "stream",
     "text": [
      "false\n"
     ]
    }
   ],
   "source": [
    "#3\n",
    "a=int(input(\"nhập 1 số tự nhiên\"))\n",
    "if a%5==0 and a%3==0:\n",
    "    print(\"True\")\n",
    "else :\n",
    "    print(\"false\")\n"
   ]
  },
  {
   "cell_type": "code",
   "execution_count": 23,
   "id": "f178167a-d964-4a27-a467-dc72e2ec9c7b",
   "metadata": {},
   "outputs": [
    {
     "name": "stdin",
     "output_type": "stream",
     "text": [
      "Nhập số tuổi: 125\n"
     ]
    },
    {
     "name": "stdout",
     "output_type": "stream",
     "text": [
      "Đủ điều kiện tham gia bầu cử\n"
     ]
    }
   ],
   "source": [
    "#4\n",
    "a=int(input(\"Nhập số tuổi:\"))\n",
    "if a>=18:\n",
    "    print(\"Đủ điều kiện tham gia bầu cử\")\n",
    "else :\n",
    "    print(\"Không đủ điều kiện tham gian bầu cử\")"
   ]
  },
  {
   "cell_type": "code",
   "execution_count": 32,
   "id": "da6989a9-e1ff-4005-bdf8-40879b059a01",
   "metadata": {},
   "outputs": [
    {
     "name": "stdin",
     "output_type": "stream",
     "text": [
      "a= -8\n",
      "b= -9\n"
     ]
    },
    {
     "name": "stdout",
     "output_type": "stream",
     "text": [
      "-8.0\n"
     ]
    }
   ],
   "source": [
    "#5\n",
    "a=float(input(\"a=\"))\n",
    "b=float(input(\"b=\"))\n",
    "if a>b:\n",
    "    print(a)\n",
    "if a<b:\n",
    "    print(b)\n",
    "if a == b:\n",
    "    print(\"a=b\")"
   ]
  },
  {
   "cell_type": "code",
   "execution_count": 57,
   "id": "04626789-8d91-4fe6-b750-f84efd9cdc7b",
   "metadata": {},
   "outputs": [
    {
     "name": "stdin",
     "output_type": "stream",
     "text": [
      "nhập số hoặc chữ: bach\n"
     ]
    },
    {
     "name": "stdout",
     "output_type": "stream",
     "text": [
      "đây là chữ cái\n"
     ]
    }
   ],
   "source": [
    "#6\n",
    "a=input(\"nhập số hoặc chữ:\")\n",
    "if a.isalpha():\n",
    "    print(\"đây là chữ cái\")\n",
    "if isinstance(a,(int,float)):\n",
    "    print(\"đây là số\")"
   ]
  },
  {
   "cell_type": "code",
   "execution_count": 62,
   "id": "779e6c86-c7e7-4f3c-94f5-34575b2d6783",
   "metadata": {},
   "outputs": [
    {
     "name": "stdin",
     "output_type": "stream",
     "text": [
      "nhập điểm: 8.9\n"
     ]
    },
    {
     "name": "stdout",
     "output_type": "stream",
     "text": [
      "Giỏi\n"
     ]
    }
   ],
   "source": [
    "#7\n",
    "a=float(input(\"nhập điểm:\"))\n",
    "if 0<=a<5:\n",
    "    print(\"Yếu\")\n",
    "if 5<=a<6.5:\n",
    "    print(\"Trung bình\")\n",
    "if 6.5<=a<8:\n",
    "    print(\"Khá\")\n",
    "if 8<=a<=10:\n",
    "    print(\"Giỏi\")"
   ]
  },
  {
   "cell_type": "code",
   "execution_count": 63,
   "id": "497f35f2-1def-4533-8a9f-5581a4bd73ff",
   "metadata": {},
   "outputs": [
    {
     "name": "stdin",
     "output_type": "stream",
     "text": [
      "nhập năm bất kỳ: 2020\n"
     ]
    },
    {
     "name": "stdout",
     "output_type": "stream",
     "text": [
      "Năm nhuận\n"
     ]
    }
   ],
   "source": [
    "#8\n",
    "a=int(input(\"nhập năm bất kỳ:\"))\n",
    "if a>0 and a%4==0:\n",
    "    print(\"Năm nhuận\")\n",
    "else:\n",
    "    print(\"Không phải năm nhuận\")\n"
   ]
  },
  {
   "cell_type": "code",
   "execution_count": null,
   "id": "07b3b04a-30dd-42be-9d05-25ac8f101f1c",
   "metadata": {},
   "outputs": [],
   "source": [
    "#9\n"
   ]
  },
  {
   "cell_type": "code",
   "execution_count": 71,
   "id": "912299f4-5eda-4806-92f4-92f987051d18",
   "metadata": {},
   "outputs": [
    {
     "name": "stdin",
     "output_type": "stream",
     "text": [
      "Nhập điểm: 999\n"
     ]
    },
    {
     "name": "stdout",
     "output_type": "stream",
     "text": [
      "Qua môn\n"
     ]
    }
   ],
   "source": [
    "#10\n",
    "a=int(input(\"Nhập điểm:\"))\n",
    "if a>=4:\n",
    "    print(\"Qua môn\")\n",
    "else:\n",
    "    print(\"Học lại\")"
   ]
  },
  {
   "cell_type": "code",
   "execution_count": 1,
   "id": "490a46f1-ab18-4818-94ab-b75228b8c9a6",
   "metadata": {},
   "outputs": [
    {
     "name": "stdin",
     "output_type": "stream",
     "text": [
      "Nhập năm sinh: 2007\n"
     ]
    },
    {
     "name": "stdout",
     "output_type": "stream",
     "text": [
      "Đủ tuổi\n"
     ]
    }
   ],
   "source": [
    "#11\n",
    "a=int(input(\"Nhập năm sinh:\"))\n",
    "if 2025-a>=18:\n",
    "    print(\"Đủ tuổi\")\n",
    "else:\n",
    "    print(\"Chưa đủ tuổi\")"
   ]
  }
 ],
 "metadata": {
  "kernelspec": {
   "display_name": "Python 3 (ipykernel)",
   "language": "python",
   "name": "python3"
  },
  "language_info": {
   "codemirror_mode": {
    "name": "ipython",
    "version": 3
   },
   "file_extension": ".py",
   "mimetype": "text/x-python",
   "name": "python",
   "nbconvert_exporter": "python",
   "pygments_lexer": "ipython3",
   "version": "3.13.7"
  }
 },
 "nbformat": 4,
 "nbformat_minor": 5
}
